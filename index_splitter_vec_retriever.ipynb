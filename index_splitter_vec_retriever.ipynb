{
 "cells": [
  {
   "cell_type": "code",
   "execution_count": 89,
   "metadata": {},
   "outputs": [
    {
     "data": {
      "text/plain": [
       "True"
      ]
     },
     "execution_count": 89,
     "metadata": {},
     "output_type": "execute_result"
    }
   ],
   "source": [
    "from langchain_community.document_loaders import DirectoryLoader, TextLoader\n",
    "from dotenv import load_dotenv\n",
    "load_dotenv()"
   ]
  },
  {
   "cell_type": "code",
   "execution_count": 39,
   "metadata": {},
   "outputs": [
    {
     "name": "stdout",
     "output_type": "stream",
     "text": [
      "Requirement already satisfied: unstructured[md] in ./env/lib/python3.10/site-packages (0.16.11)\n",
      "Requirement already satisfied: nltk in ./env/lib/python3.10/site-packages (3.9.1)\n",
      "Requirement already satisfied: beautifulsoup4 in ./env/lib/python3.10/site-packages (from unstructured[md]) (4.12.3)\n",
      "Requirement already satisfied: filetype in ./env/lib/python3.10/site-packages (from unstructured[md]) (1.2.0)\n",
      "Requirement already satisfied: python-oxmsg in ./env/lib/python3.10/site-packages (from unstructured[md]) (0.0.1)\n",
      "Requirement already satisfied: html5lib in ./env/lib/python3.10/site-packages (from unstructured[md]) (1.1)\n",
      "Requirement already satisfied: backoff in ./env/lib/python3.10/site-packages (from unstructured[md]) (2.2.1)\n",
      "Requirement already satisfied: lxml in ./env/lib/python3.10/site-packages (from unstructured[md]) (5.3.0)\n",
      "Requirement already satisfied: python-iso639 in ./env/lib/python3.10/site-packages (from unstructured[md]) (2024.10.22)\n",
      "Requirement already satisfied: tqdm in ./env/lib/python3.10/site-packages (from unstructured[md]) (4.67.1)\n",
      "Requirement already satisfied: requests in ./env/lib/python3.10/site-packages (from unstructured[md]) (2.32.3)\n",
      "Requirement already satisfied: dataclasses-json in ./env/lib/python3.10/site-packages (from unstructured[md]) (0.6.7)\n",
      "Requirement already satisfied: typing-extensions in ./env/lib/python3.10/site-packages (from unstructured[md]) (4.12.2)\n",
      "Requirement already satisfied: wrapt in ./env/lib/python3.10/site-packages (from unstructured[md]) (1.17.0)\n",
      "Requirement already satisfied: python-magic in ./env/lib/python3.10/site-packages (from unstructured[md]) (0.4.27)\n",
      "Requirement already satisfied: rapidfuzz in ./env/lib/python3.10/site-packages (from unstructured[md]) (3.10.1)\n",
      "Requirement already satisfied: langdetect in ./env/lib/python3.10/site-packages (from unstructured[md]) (1.0.9)\n",
      "Requirement already satisfied: numpy<2 in ./env/lib/python3.10/site-packages (from unstructured[md]) (1.26.4)\n",
      "Requirement already satisfied: emoji in ./env/lib/python3.10/site-packages (from unstructured[md]) (2.14.0)\n",
      "Requirement already satisfied: unstructured-client in ./env/lib/python3.10/site-packages (from unstructured[md]) (0.28.1)\n",
      "Requirement already satisfied: chardet in ./env/lib/python3.10/site-packages (from unstructured[md]) (5.2.0)\n",
      "Requirement already satisfied: psutil in ./env/lib/python3.10/site-packages (from unstructured[md]) (6.1.0)\n",
      "Requirement already satisfied: markdown in ./env/lib/python3.10/site-packages (from unstructured[md]) (3.7)\n",
      "Requirement already satisfied: regex>=2021.8.3 in ./env/lib/python3.10/site-packages (from nltk) (2024.11.6)\n",
      "Requirement already satisfied: joblib in ./env/lib/python3.10/site-packages (from nltk) (1.4.2)\n",
      "Requirement already satisfied: click in ./env/lib/python3.10/site-packages (from nltk) (8.1.7)\n",
      "Requirement already satisfied: soupsieve>1.2 in ./env/lib/python3.10/site-packages (from beautifulsoup4->unstructured[md]) (2.6)\n",
      "Requirement already satisfied: marshmallow<4.0.0,>=3.18.0 in ./env/lib/python3.10/site-packages (from dataclasses-json->unstructured[md]) (3.23.1)\n",
      "Requirement already satisfied: typing-inspect<1,>=0.4.0 in ./env/lib/python3.10/site-packages (from dataclasses-json->unstructured[md]) (0.9.0)\n",
      "Requirement already satisfied: six>=1.9 in ./env/lib/python3.10/site-packages (from html5lib->unstructured[md]) (1.17.0)\n",
      "Requirement already satisfied: webencodings in ./env/lib/python3.10/site-packages (from html5lib->unstructured[md]) (0.5.1)\n",
      "Requirement already satisfied: olefile in ./env/lib/python3.10/site-packages (from python-oxmsg->unstructured[md]) (0.47)\n",
      "Requirement already satisfied: urllib3<3,>=1.21.1 in ./env/lib/python3.10/site-packages (from requests->unstructured[md]) (2.2.3)\n",
      "Requirement already satisfied: certifi>=2017.4.17 in ./env/lib/python3.10/site-packages (from requests->unstructured[md]) (2024.8.30)\n",
      "Requirement already satisfied: idna<4,>=2.5 in ./env/lib/python3.10/site-packages (from requests->unstructured[md]) (3.10)\n",
      "Requirement already satisfied: charset-normalizer<4,>=2 in ./env/lib/python3.10/site-packages (from requests->unstructured[md]) (3.4.0)\n",
      "Requirement already satisfied: pydantic<2.10.0,>=2.9.2 in ./env/lib/python3.10/site-packages (from unstructured-client->unstructured[md]) (2.9.2)\n",
      "Requirement already satisfied: python-dateutil<3.0.0,>=2.8.2 in ./env/lib/python3.10/site-packages (from unstructured-client->unstructured[md]) (2.9.0.post0)\n",
      "Requirement already satisfied: cryptography>=3.1 in ./env/lib/python3.10/site-packages (from unstructured-client->unstructured[md]) (44.0.0)\n",
      "Requirement already satisfied: nest-asyncio>=1.6.0 in ./env/lib/python3.10/site-packages (from unstructured-client->unstructured[md]) (1.6.0)\n",
      "Requirement already satisfied: httpx>=0.27.0 in ./env/lib/python3.10/site-packages (from unstructured-client->unstructured[md]) (0.28.1)\n",
      "Requirement already satisfied: aiofiles>=24.1.0 in ./env/lib/python3.10/site-packages (from unstructured-client->unstructured[md]) (24.1.0)\n",
      "Requirement already satisfied: requests-toolbelt>=1.0.0 in ./env/lib/python3.10/site-packages (from unstructured-client->unstructured[md]) (1.0.0)\n",
      "Requirement already satisfied: jsonpath-python<2.0.0,>=1.0.6 in ./env/lib/python3.10/site-packages (from unstructured-client->unstructured[md]) (1.0.6)\n",
      "Requirement already satisfied: eval-type-backport<0.3.0,>=0.2.0 in ./env/lib/python3.10/site-packages (from unstructured-client->unstructured[md]) (0.2.0)\n",
      "Requirement already satisfied: pypdf>=4.0 in ./env/lib/python3.10/site-packages (from unstructured-client->unstructured[md]) (5.1.0)\n",
      "Requirement already satisfied: cffi>=1.12 in ./env/lib/python3.10/site-packages (from cryptography>=3.1->unstructured-client->unstructured[md]) (1.17.1)\n",
      "Requirement already satisfied: httpcore==1.* in ./env/lib/python3.10/site-packages (from httpx>=0.27.0->unstructured-client->unstructured[md]) (1.0.7)\n",
      "Requirement already satisfied: anyio in ./env/lib/python3.10/site-packages (from httpx>=0.27.0->unstructured-client->unstructured[md]) (4.7.0)\n",
      "Requirement already satisfied: h11<0.15,>=0.13 in ./env/lib/python3.10/site-packages (from httpcore==1.*->httpx>=0.27.0->unstructured-client->unstructured[md]) (0.14.0)\n",
      "Requirement already satisfied: packaging>=17.0 in ./env/lib/python3.10/site-packages (from marshmallow<4.0.0,>=3.18.0->dataclasses-json->unstructured[md]) (24.2)\n",
      "Requirement already satisfied: annotated-types>=0.6.0 in ./env/lib/python3.10/site-packages (from pydantic<2.10.0,>=2.9.2->unstructured-client->unstructured[md]) (0.7.0)\n",
      "Requirement already satisfied: pydantic-core==2.23.4 in ./env/lib/python3.10/site-packages (from pydantic<2.10.0,>=2.9.2->unstructured-client->unstructured[md]) (2.23.4)\n",
      "Requirement already satisfied: mypy-extensions>=0.3.0 in ./env/lib/python3.10/site-packages (from typing-inspect<1,>=0.4.0->dataclasses-json->unstructured[md]) (1.0.0)\n",
      "Requirement already satisfied: pycparser in ./env/lib/python3.10/site-packages (from cffi>=1.12->cryptography>=3.1->unstructured-client->unstructured[md]) (2.22)\n",
      "Requirement already satisfied: sniffio>=1.1 in ./env/lib/python3.10/site-packages (from anyio->httpx>=0.27.0->unstructured-client->unstructured[md]) (1.3.1)\n",
      "Requirement already satisfied: exceptiongroup>=1.0.2 in ./env/lib/python3.10/site-packages (from anyio->httpx>=0.27.0->unstructured-client->unstructured[md]) (1.2.2)\n",
      "Note: you may need to restart the kernel to use updated packages.\n"
     ]
    }
   ],
   "source": [
    "%pip install \"unstructured[md]\" nltk"
   ]
  },
  {
   "cell_type": "markdown",
   "metadata": {},
   "source": [
    "## Document Loading"
   ]
  },
  {
   "cell_type": "code",
   "execution_count": 74,
   "metadata": {},
   "outputs": [
    {
     "name": "stderr",
     "output_type": "stream",
     "text": [
      "100%|██████████| 1/1 [00:00<00:00, 471.06it/s]"
     ]
    },
    {
     "name": "stdout",
     "output_type": "stream",
     "text": [
      "page_content='### INI file with explanations as comments.\n",
      "[SigmaFileInfo]\n",
      "FileType ; Parameter explanation: Internal parameter identifying the file type\n",
      "FileVersion ; Parameter explanation: Internal version parameter\n",
      "Date ; Parameter explanation: The current date\n",
      "SigmaVersion ; Parameter explanation: Internal version of SIGMA used\n",
      "ConfigId ; Parameter explanation: Internal system job ID, user may refer to this as srid\n",
      "\n",
      "[E3DGeometryData]\n",
      "[E3DGeometryData/Machine]\n",
      "Type ; Parameter explanation: Extruder type, possible values: TSE, SSE, DIE\n",
      "Unit ; Parameter explanation: Unit for input parameters, mm, cm, dm, m, ... etc.\n",
      "Zwickel ; Parameter explanation: Barrel shape; can be straight or curved\n",
      "MachineName ; Parameter explanation: Extruder name\n",
      "RotationDirection ; Parameter explanation: Extruder rotation direction: LEFT (default) or RIGHT\n",
      "BarrelDiameter ; Parameter explanation: Barrel diameter (default: 2 * screw diameter + 2 * screw clearance), German: Zylinderdurchmesser , [mm]\n",
      "CenterlineDistance ; Parameter explanation: Centerline distance between axes, required for TSE simulations, German: Achsabstand , [mm]\n",
      "BarrelStraightCut ; Parameter explanation: Depth of the V-cut (default: 2.5 percent of BarrelDiameter, used only for twin screws), user may refer to this as vcut , [mm]\n",
      "NoOfElements ; Parameter explanation: Number of elements in the extruder\n",
      "NoOfFlights ; Parameter explanation: Number of flights in the extruder, can use single flight (German: eingängig)\n",
      "BarrelLength ; Parameter explanation: Length of the barrel/housing, German: Länge, Gehäuselänge or similar , [mm]\n",
      "\n",
      "[E3DGeometryData/Machine/Element_1]\n",
      "GapScrewScrew ; Parameter explanation: Clearance between screws in a twin-screw extruder, German: Schneckenspiel , [mm]\n",
      "ObjectType ; Parameter explanation: The object is a screw\n",
      "Unit ; Parameter explanation: Unit for input parameters, mm, cm, dm, m, ... etc.\n",
      "startposition ; Parameter explanation: Starting position of the screw , [mm]\n",
      "off_filelist ; Parameter explanation: File containing the 3D geometry of the screw, this key-value is used if type=OFF in this section\n",
      "off_filelistL ; Parameter explanation: File for the left-hand side of the screw geometry, this key-value is used if type=OFF_LR in this section\n",
      "off_filelistR ; Parameter explanation: File for the right-hand side of the screw geometry, this key-value is used if type=OFF_LR in this section\n",
      "innerdiameter ; Parameter explanation: Inner diameter of the screw, German: Kerndurchmesser, Maximaler Schneckendurchmesser , [mm]\n",
      "outerdiameter ; Parameter explanation: Outer diameter of the screw, German: Minimaler Schneckendurchmesser , [mm]\n",
      "type ; Parameter explanation: Type of input geometry; OFF requires `off_filelist`, OFF_LR requires both `off_filelistL` and `off_filelistR`\n",
      "\n",
      "[E3DProcessParameters]\n",
      "ScrewSpeed ; Parameter explanation: Rotational speed of the screw , [rpm]\n",
      "ProcessType ; Parameter explanation: Type of process: mass throughput, can be: THROUGHPUT\n",
      "MassThroughput ; Parameter explanation: Mass of material processed per hour, German: Durchsatz, Massendurchsatz , [kg/h]\n",
      "MaterialTemperature ; Parameter explanation: Inflow temperature of the material and starting melt temperature , [C deg]\n",
      "BarrelTemperature ; Parameter explanation: Barrel temperature (used if not adiabatic); can be called T_barrel , [C deg]\n",
      "ScrewTemperature ; Parameter explanation: Screw temperature (used if not adiabatic); can be called T_screw , [C deg]\n",
      "BarrelTemperatureAdiabatic ; Parameter explanation: If NO, a specific ScrewTemperature must be defined, can be YES, NO\n",
      "ScrewTemperatureAdiabatic ; Parameter explanation: If NO, a specific BarrelTemperature must be defined, can be YES, NO\n",
      "\n",
      "[E3DProcessParameters/Material]\n",
      "Name ; Parameter explanation: Name of the material\n",
      "Type ; Parameter explanation: Type of material\n",
      "\n",
      "[E3DProcessParameters/Material/RheologicalData]\n",
      "CalcVisco ; Parameter explanation: Viscosity model used for the material, can be: Carreau\n",
      "CalcTemp ; Parameter explanation: Temperature model used for the material, can be: TbTs\n",
      "\n",
      "[E3DProcessParameters/Material/RheologicalData/Carreau]\n",
      "ZeroViscosity ; Parameter explanation: Viscosity at zero shear rate, a user may refer to as A which comes from the Carreau model formula , [Pa.s]\n",
      "RecipVelocity ; Parameter explanation: Reciprocal of the characteristic shear rate velocity, can be called B , [s]\n",
      "Exponent ; Parameter explanation: Exponent in the Carreau viscosity model, can be called C , [unitless]\n",
      "\n",
      "[E3DProcessParameters/Material/RheologicalData/TBTS]\n",
      "standardtemperature ; Parameter explanation: Standard processing temperature, user may refer to this as T:S or similar , [C deg]\n",
      "referencetemperature ; Parameter explanation: Reference temperature for rheological calculations, user may refer to this as T:B or similar , [C deg]\n",
      "\n",
      "[E3DProcessParameters/Material/ThermoData]\n",
      "heatconductivity ; Parameter explanation: Thermal conductivity of the material , [W/m/K]\n",
      "heatconductivityslope ; Parameter explanation: Slope of the thermal conductivity with respect to temperature\n",
      "heatcapacity ; Parameter explanation: Specific heat capacity of the material, can be cp , [kJ/kg/K]\n",
      "heatcapacityslope ; Parameter explanation: Slope of the heat capacity with respect to temperature\n",
      "densitymodel ; Parameter explanation: Density model used for the material, can be: DENSITY\n",
      "\n",
      "[E3DProcessParameters/Material/ThermoData/Density]\n",
      "Density ; Parameter explanation: Density of the melt , [g/cm3]\n",
      "DensitySlope ; Parameter explanation: Slope of the density with respect to temperature\n",
      "\n",
      "[E3DSimulationsettings]\n",
      "MeshQuality ; Parameter explanation: Mesh resolution, can be: coarse, medium, fine\n",
      "HexMesher ; Parameter explanation: Mesh generator type: TwinScrew or HollowCylinder\n",
      "KTPRelease ; Parameter explanation: Flag indicating whether KTP release is activated; NO or YES\n",
      "' metadata={'source': 'manual2/input.txt'}\n"
     ]
    },
    {
     "name": "stderr",
     "output_type": "stream",
     "text": [
      "\n"
     ]
    }
   ],
   "source": [
    "loader = DirectoryLoader('./manual2', glob=\"**/*.txt\", loader_cls=TextLoader, show_progress=True)\n",
    "docs = loader.load()\n",
    "print(docs[0])\n"
   ]
  },
  {
   "cell_type": "code",
   "execution_count": null,
   "metadata": {},
   "outputs": [],
   "source": []
  },
  {
   "cell_type": "markdown",
   "metadata": {},
   "source": [
    "## Text Splitting"
   ]
  },
  {
   "cell_type": "code",
   "execution_count": 81,
   "metadata": {},
   "outputs": [
    {
     "name": "stdout",
     "output_type": "stream",
     "text": [
      "Num of chunks: 55\n",
      "[Document(metadata={'source': 'manual2/input.txt'}, page_content='### INI file with explanations as comments.\\n[SigmaFileInfo]\\nFileType ; Parameter explanation: Internal parameter identifying the file type'), Document(metadata={'source': 'manual2/input.txt'}, page_content='FileVersion ; Parameter explanation: Internal version parameter\\nDate ; Parameter explanation: The current date'), Document(metadata={'source': 'manual2/input.txt'}, page_content='SigmaVersion ; Parameter explanation: Internal version of SIGMA used'), Document(metadata={'source': 'manual2/input.txt'}, page_content='ConfigId ; Parameter explanation: Internal system job ID, user may refer to this as srid'), Document(metadata={'source': 'manual2/input.txt'}, page_content='[E3DGeometryData]\\n[E3DGeometryData/Machine]\\nType ; Parameter explanation: Extruder type, possible values: TSE, SSE, DIE'), Document(metadata={'source': 'manual2/input.txt'}, page_content='Unit ; Parameter explanation: Unit for input parameters, mm, cm, dm, m, ... etc.'), Document(metadata={'source': 'manual2/input.txt'}, page_content='Zwickel ; Parameter explanation: Barrel shape; can be straight or curved\\nMachineName ; Parameter explanation: Extruder name'), Document(metadata={'source': 'manual2/input.txt'}, page_content='RotationDirection ; Parameter explanation: Extruder rotation direction: LEFT (default) or RIGHT'), Document(metadata={'source': 'manual2/input.txt'}, page_content='BarrelDiameter ; Parameter explanation: Barrel diameter (default: 2 * screw diameter + 2 * screw clearance), German: Zylinderdurchmesser , [mm]'), Document(metadata={'source': 'manual2/input.txt'}, page_content='CenterlineDistance ; Parameter explanation: Centerline distance between axes, required for TSE simulations, German: Achsabstand , [mm]'), Document(metadata={'source': 'manual2/input.txt'}, page_content='BarrelStraightCut ; Parameter explanation: Depth of the V-cut (default: 2.5 percent of BarrelDiameter, used only for twin screws), user may'), Document(metadata={'source': 'manual2/input.txt'}, page_content='for twin screws), user may refer to this as vcut , [mm]'), Document(metadata={'source': 'manual2/input.txt'}, page_content='NoOfElements ; Parameter explanation: Number of elements in the extruder'), Document(metadata={'source': 'manual2/input.txt'}, page_content='NoOfFlights ; Parameter explanation: Number of flights in the extruder, can use single flight (German: eingängig)'), Document(metadata={'source': 'manual2/input.txt'}, page_content='BarrelLength ; Parameter explanation: Length of the barrel/housing, German: Länge, Gehäuselänge or similar , [mm]'), Document(metadata={'source': 'manual2/input.txt'}, page_content='[E3DGeometryData/Machine/Element_1]'), Document(metadata={'source': 'manual2/input.txt'}, page_content='GapScrewScrew ; Parameter explanation: Clearance between screws in a twin-screw extruder, German: Schneckenspiel , [mm]'), Document(metadata={'source': 'manual2/input.txt'}, page_content='ObjectType ; Parameter explanation: The object is a screw\\nUnit ; Parameter explanation: Unit for input parameters, mm, cm, dm, m, ... etc.'), Document(metadata={'source': 'manual2/input.txt'}, page_content='startposition ; Parameter explanation: Starting position of the screw , [mm]'), Document(metadata={'source': 'manual2/input.txt'}, page_content='off_filelist ; Parameter explanation: File containing the 3D geometry of the screw, this key-value is used if type=OFF in this section'), Document(metadata={'source': 'manual2/input.txt'}, page_content='off_filelistL ; Parameter explanation: File for the left-hand side of the screw geometry, this key-value is used if type=OFF_LR in this section'), Document(metadata={'source': 'manual2/input.txt'}, page_content='off_filelistR ; Parameter explanation: File for the right-hand side of the screw geometry, this key-value is used if type=OFF_LR in this section'), Document(metadata={'source': 'manual2/input.txt'}, page_content='innerdiameter ; Parameter explanation: Inner diameter of the screw, German: Kerndurchmesser, Maximaler Schneckendurchmesser , [mm]'), Document(metadata={'source': 'manual2/input.txt'}, page_content='outerdiameter ; Parameter explanation: Outer diameter of the screw, German: Minimaler Schneckendurchmesser , [mm]'), Document(metadata={'source': 'manual2/input.txt'}, page_content='type ; Parameter explanation: Type of input geometry; OFF requires `off_filelist`, OFF_LR requires both `off_filelistL` and `off_filelistR`'), Document(metadata={'source': 'manual2/input.txt'}, page_content='[E3DProcessParameters]\\nScrewSpeed ; Parameter explanation: Rotational speed of the screw , [rpm]'), Document(metadata={'source': 'manual2/input.txt'}, page_content='ProcessType ; Parameter explanation: Type of process: mass throughput, can be: THROUGHPUT'), Document(metadata={'source': 'manual2/input.txt'}, page_content='MassThroughput ; Parameter explanation: Mass of material processed per hour, German: Durchsatz, Massendurchsatz , [kg/h]'), Document(metadata={'source': 'manual2/input.txt'}, page_content='MaterialTemperature ; Parameter explanation: Inflow temperature of the material and starting melt temperature , [C deg]'), Document(metadata={'source': 'manual2/input.txt'}, page_content='BarrelTemperature ; Parameter explanation: Barrel temperature (used if not adiabatic); can be called T_barrel , [C deg]'), Document(metadata={'source': 'manual2/input.txt'}, page_content='ScrewTemperature ; Parameter explanation: Screw temperature (used if not adiabatic); can be called T_screw , [C deg]'), Document(metadata={'source': 'manual2/input.txt'}, page_content='BarrelTemperatureAdiabatic ; Parameter explanation: If NO, a specific ScrewTemperature must be defined, can be YES, NO'), Document(metadata={'source': 'manual2/input.txt'}, page_content='ScrewTemperatureAdiabatic ; Parameter explanation: If NO, a specific BarrelTemperature must be defined, can be YES, NO'), Document(metadata={'source': 'manual2/input.txt'}, page_content='[E3DProcessParameters/Material]\\nName ; Parameter explanation: Name of the material\\nType ; Parameter explanation: Type of material'), Document(metadata={'source': 'manual2/input.txt'}, page_content='[E3DProcessParameters/Material/RheologicalData]\\nCalcVisco ; Parameter explanation: Viscosity model used for the material, can be: Carreau'), Document(metadata={'source': 'manual2/input.txt'}, page_content='CalcTemp ; Parameter explanation: Temperature model used for the material, can be: TbTs'), Document(metadata={'source': 'manual2/input.txt'}, page_content='[E3DProcessParameters/Material/RheologicalData/Carreau]'), Document(metadata={'source': 'manual2/input.txt'}, page_content='ZeroViscosity ; Parameter explanation: Viscosity at zero shear rate, a user may refer to as A which comes from the Carreau model formula ,'), Document(metadata={'source': 'manual2/input.txt'}, page_content='the Carreau model formula , [Pa.s]'), Document(metadata={'source': 'manual2/input.txt'}, page_content='RecipVelocity ; Parameter explanation: Reciprocal of the characteristic shear rate velocity, can be called B , [s]'), Document(metadata={'source': 'manual2/input.txt'}, page_content='Exponent ; Parameter explanation: Exponent in the Carreau viscosity model, can be called C , [unitless]'), Document(metadata={'source': 'manual2/input.txt'}, page_content='[E3DProcessParameters/Material/RheologicalData/TBTS]'), Document(metadata={'source': 'manual2/input.txt'}, page_content='standardtemperature ; Parameter explanation: Standard processing temperature, user may refer to this as T:S or similar , [C deg]'), Document(metadata={'source': 'manual2/input.txt'}, page_content='referencetemperature ; Parameter explanation: Reference temperature for rheological calculations, user may refer to this as T:B or similar , [C'), Document(metadata={'source': 'manual2/input.txt'}, page_content='this as T:B or similar , [C deg]'), Document(metadata={'source': 'manual2/input.txt'}, page_content='[E3DProcessParameters/Material/ThermoData]\\nheatconductivity ; Parameter explanation: Thermal conductivity of the material , [W/m/K]'), Document(metadata={'source': 'manual2/input.txt'}, page_content='heatconductivityslope ; Parameter explanation: Slope of the thermal conductivity with respect to temperature'), Document(metadata={'source': 'manual2/input.txt'}, page_content='heatcapacity ; Parameter explanation: Specific heat capacity of the material, can be cp , [kJ/kg/K]'), Document(metadata={'source': 'manual2/input.txt'}, page_content='heatcapacityslope ; Parameter explanation: Slope of the heat capacity with respect to temperature'), Document(metadata={'source': 'manual2/input.txt'}, page_content='densitymodel ; Parameter explanation: Density model used for the material, can be: DENSITY'), Document(metadata={'source': 'manual2/input.txt'}, page_content='[E3DProcessParameters/Material/ThermoData/Density]\\nDensity ; Parameter explanation: Density of the melt , [g/cm3]'), Document(metadata={'source': 'manual2/input.txt'}, page_content='DensitySlope ; Parameter explanation: Slope of the density with respect to temperature'), Document(metadata={'source': 'manual2/input.txt'}, page_content='[E3DSimulationsettings]\\nMeshQuality ; Parameter explanation: Mesh resolution, can be: coarse, medium, fine'), Document(metadata={'source': 'manual2/input.txt'}, page_content='HexMesher ; Parameter explanation: Mesh generator type: TwinScrew or HollowCylinder'), Document(metadata={'source': 'manual2/input.txt'}, page_content='KTPRelease ; Parameter explanation: Flag indicating whether KTP release is activated; NO or YES')]\n"
     ]
    }
   ],
   "source": [
    "from langchain.text_splitter import RecursiveCharacterTextSplitter\n",
    "\n",
    "text_splitter = RecursiveCharacterTextSplitter(\n",
    "    chunk_size=145,\n",
    "    chunk_overlap=30,\n",
    ")\n",
    "\n",
    "split_docs = text_splitter.split_documents(docs)\n",
    "print(f\"Num of chunks: {len(split_docs)}\")\n",
    "print(split_docs)"
   ]
  },
  {
   "cell_type": "markdown",
   "metadata": {},
   "source": [
    "## Embedding Model "
   ]
  },
  {
   "cell_type": "code",
   "execution_count": 60,
   "metadata": {},
   "outputs": [],
   "source": [
    "from langchain_openai import OpenAIEmbeddings\n",
    "embeddings_model = OpenAIEmbeddings(model=\"text-embedding-3-large\")\n"
   ]
  },
  {
   "cell_type": "markdown",
   "metadata": {},
   "source": [
    "## Embed Documents"
   ]
  },
  {
   "cell_type": "code",
   "execution_count": 83,
   "metadata": {},
   "outputs": [],
   "source": [
    "from langchain_community.vectorstores import Chroma\n",
    "\n",
    "CHROMA_PATH = \"./chroma_storage4\"\n",
    "vectorstore = Chroma.from_documents(documents=split_docs, embedding=embeddings_model, persist_directory=CHROMA_PATH)"
   ]
  },
  {
   "cell_type": "code",
   "execution_count": 40,
   "metadata": {},
   "outputs": [
    {
     "name": "stderr",
     "output_type": "stream",
     "text": [
      "/tmp/ipykernel_877101/371347339.py:18: UserWarning: Relevance scores must be between 0 and 1, got [(Document(metadata={'source': 'manual/input.txt'}, page_content='NoOfElements=undefined\\nNoOfFlights=undefined\\nBarrelLength=undefined'), 0.2548700476123762), (Document(metadata={'source': 'manual/input.txt'}, page_content='NoOfFlights=undefined ; Number of flights in the extruder, can use single flight (German: eingängig)\\nBarrelLength=undefined ; Length of the barrel/housing, German: Länge, Gehäuselänge or similar , [mm]'), 0.25374192681431573), (Document(metadata={'source': 'manual/input.txt'}, page_content='BarrelStraightCut=undefined ; Depth of the V-cut (default: 2.5 percent of BarrelDiameter, used only for twin screws), user may refer to this as vcut , [mm]\\nNoOfElements=undefined ; Number of elements in the extruder'), -0.09941772599046628), (Document(metadata={'source': 'manual/input.txt'}, page_content='[E3DSimulationsettings]\\nMeshQuality=undefined ; Mesh resolution, can be: coarse, medium, fine\\nHexMesher=undefined ; Mesh generator type: TwinScrew or HollowCylinder\\nKTPRelease=undefined ; Flag indicating whether KTP release is activated; NO or YES'), -0.10642609928337565), (Document(metadata={'source': 'manual/input.txt'}, page_content='outerdiameter=undefined ; Outer diameter of the screw, German: Minimaler Schneckendurchmesser , [mm]\\ntype=undefined ; Type of input geometry; OFF requires `off_filelist`, OFF_LR requires both `off_filelistL` and `off_filelistR`'), -0.11960228837263576)]\n",
      "  results = db.similarity_search_with_relevance_scores(question, k=5)\n"
     ]
    },
    {
     "name": "stdout",
     "output_type": "stream",
     "text": [
      "Human: \n",
      "Answer the question based on the following information if neccessary use also your world knowledge of the topic, but keep it concise:\n",
      "\n",
      "NoOfElements=undefined\n",
      "NoOfFlights=undefined\n",
      "BarrelLength=undefined\n",
      "\n",
      "---\n",
      "\n",
      "NoOfFlights=undefined ; Number of flights in the extruder, can use single flight (German: eingängig)\n",
      "BarrelLength=undefined ; Length of the barrel/housing, German: Länge, Gehäuselänge or similar , [mm]\n",
      "\n",
      "---\n",
      "\n",
      "BarrelStraightCut=undefined ; Depth of the V-cut (default: 2.5 percent of BarrelDiameter, used only for twin screws), user may refer to this as vcut , [mm]\n",
      "NoOfElements=undefined ; Number of elements in the extruder\n",
      "\n",
      "---\n",
      "\n",
      "[E3DSimulationsettings]\n",
      "MeshQuality=undefined ; Mesh resolution, can be: coarse, medium, fine\n",
      "HexMesher=undefined ; Mesh generator type: TwinScrew or HollowCylinder\n",
      "KTPRelease=undefined ; Flag indicating whether KTP release is activated; NO or YES\n",
      "\n",
      "---\n",
      "\n",
      "outerdiameter=undefined ; Outer diameter of the screw, German: Minimaler Schneckendurchmesser , [mm]\n",
      "type=undefined ; Type of input geometry; OFF requires `off_filelist`, OFF_LR requires both `off_filelistL` and `off_filelistR`\n",
      "\n",
      "---\n",
      "\n",
      "Answer the question based on the following information if neccessary use also your world knowledge of the above topic, but keep it concise: What is the NoOfFlights parameter about?\n",
      "\n",
      "The NoOfFlights parameter refers to the number of flights in the extruder, which can use a single flight design. In German, this is referred to as \"eingängig.\"\n"
     ]
    }
   ],
   "source": [
    "from langchain.prompts import ChatPromptTemplate\n",
    "from langchain_openai import ChatOpenAI\n",
    "\n",
    "question = f\"What is the NoOfFlights parameter about?\"\n",
    "\n",
    "PROMPT_TEMPLATE = \"\"\"\n",
    "Answer the question based on the following information if neccessary use also your world knowledge of the topic, but keep it concise:\n",
    "\n",
    "{context}\n",
    "\n",
    "---\n",
    "\n",
    "Answer the question based on the following information if neccessary use also your world knowledge of the above topic, but keep it concise: {question}\n",
    "\"\"\"\n",
    "\n",
    "db = vectorstore\n",
    "\n",
    "results = db.similarity_search_with_relevance_scores(question, k=5)\n",
    "\n",
    "context_text = \"\\n\\n---\\n\\n\".join([doc.page_content for doc, _score in results])\n",
    "prompt_template = ChatPromptTemplate.from_template(PROMPT_TEMPLATE)\n",
    "prompt = prompt_template.format(context=context_text, question=question)\n",
    "print(prompt)\n",
    "\n",
    "llm = ChatOpenAI(model=\"gpt-3.5-turbo\", temperature=0.3)\n",
    "response_text = llm.invoke(prompt)\n",
    "print(response_text.content)\n"
   ]
  },
  {
   "cell_type": "code",
   "execution_count": 65,
   "metadata": {},
   "outputs": [],
   "source": [
    "\n",
    "price_per_token = 1e-6"
   ]
  },
  {
   "cell_type": "code",
   "execution_count": 84,
   "metadata": {},
   "outputs": [
    {
     "name": "stdout",
     "output_type": "stream",
     "text": [
      "off_filelistL ; Parameter explanation: File for the left-hand side of the screw geometry, this key-value is used if type=OFF_LR in this section\n",
      "\n",
      "---\n",
      "\n",
      "off_filelistR ; Parameter explanation: File for the right-hand side of the screw geometry, this key-value is used if type=OFF_LR in this section\n",
      "\n",
      "---\n",
      "\n",
      "off_filelist ; Parameter explanation: File containing the 3D geometry of the screw, this key-value is used if type=OFF in this section\n",
      "\n",
      "---\n",
      "\n",
      "type ; Parameter explanation: Type of input geometry; OFF requires `off_filelist`, OFF_LR requires both `off_filelistL` and `off_filelistR`\n",
      "\n",
      "---\n",
      "\n",
      "### INI file with explanations as comments.\n",
      "[SigmaFileInfo]\n",
      "FileType ; Parameter explanation: Internal parameter identifying the file type\n",
      "The off_filelist parameter is used to specify the file containing the 3D geometry of the screw. It is used when the type parameter is set to OFF in the section. Additionally, if the type parameter is set to OFF_LR, then both off_filelistL and off_filelistR parameters are required to specify the files for the left-hand side and right-hand side of the screw geometry, respectively.\n"
     ]
    }
   ],
   "source": [
    "from langchain.prompts import ChatPromptTemplate\n",
    "from langchain_openai import ChatOpenAI\n",
    "from langchain_openai import OpenAIEmbeddings\n",
    "\n",
    "question = f\"What can you tell me about the off_filelist parameter?\"\n",
    "\n",
    "PROMPT_TEMPLATE = \"\"\"\n",
    "Answer the question based on the following information if neccessary use also your world knowledge of the topic, but keep it concise:\n",
    "\n",
    "{context}\n",
    "\n",
    "---\n",
    "\n",
    "Answer the question based on the above information if neccessary use also your world knowledge of the above topic, but keep it concise: {question}\n",
    "\"\"\"\n",
    "\n",
    "embeddings_model = OpenAIEmbeddings(model=\"text-embedding-3-large\")\n",
    "db = Chroma(persist_directory=CHROMA_PATH, embedding_function=embeddings_model)\n",
    "\n",
    "results = db.similarity_search_with_relevance_scores(question, k=5)\n",
    "#results2 = db.similarity_search(query=question, k=5)\n",
    "\n",
    "context_text = \"\\n\\n---\\n\\n\".join([doc.page_content for doc, _score in results if _score > 0.0])\n",
    "print(context_text)\n",
    "\n",
    "prompt_template = ChatPromptTemplate.from_template(PROMPT_TEMPLATE)\n",
    "\n",
    "# This command replaces the placeholders in the prompt template with concrete data\n",
    "prompt = prompt_template.format(context=context_text, question=question)\n",
    "#print(prompt)\n",
    "\n",
    "llm = ChatOpenAI(model=\"gpt-3.5-turbo\", temperature=0.1)\n",
    "response = llm.invoke(prompt)\n",
    "print(response.content)\n",
    "#print(response)\n"
   ]
  },
  {
   "cell_type": "code",
   "execution_count": 88,
   "metadata": {},
   "outputs": [
    {
     "data": {
      "text/plain": [
       "0.3433192401756373"
      ]
     },
     "execution_count": 88,
     "metadata": {},
     "output_type": "execute_result"
    }
   ],
   "source": [
    "results[2][1]"
   ]
  },
  {
   "cell_type": "code",
   "execution_count": 69,
   "metadata": {},
   "outputs": [
    {
     "data": {
      "text/plain": [
       "['__add__',\n",
       " '__class__',\n",
       " '__class_getitem__',\n",
       " '__contains__',\n",
       " '__delattr__',\n",
       " '__dir__',\n",
       " '__doc__',\n",
       " '__eq__',\n",
       " '__format__',\n",
       " '__ge__',\n",
       " '__getattribute__',\n",
       " '__getitem__',\n",
       " '__getnewargs__',\n",
       " '__gt__',\n",
       " '__hash__',\n",
       " '__init__',\n",
       " '__init_subclass__',\n",
       " '__iter__',\n",
       " '__le__',\n",
       " '__len__',\n",
       " '__lt__',\n",
       " '__mul__',\n",
       " '__ne__',\n",
       " '__new__',\n",
       " '__reduce__',\n",
       " '__reduce_ex__',\n",
       " '__repr__',\n",
       " '__rmul__',\n",
       " '__setattr__',\n",
       " '__sizeof__',\n",
       " '__str__',\n",
       " '__subclasshook__',\n",
       " 'count',\n",
       " 'index']"
      ]
     },
     "execution_count": 69,
     "metadata": {},
     "output_type": "execute_result"
    }
   ],
   "source": [
    "#response.usage_metadata['total_tokens'] * price_per_token\n",
    "dir(results1[0])\n"
   ]
  }
 ],
 "metadata": {
  "kernelspec": {
   "display_name": "env",
   "language": "python",
   "name": "python3"
  },
  "language_info": {
   "codemirror_mode": {
    "name": "ipython",
    "version": 3
   },
   "file_extension": ".py",
   "mimetype": "text/x-python",
   "name": "python",
   "nbconvert_exporter": "python",
   "pygments_lexer": "ipython3",
   "version": "3.10.12"
  }
 },
 "nbformat": 4,
 "nbformat_minor": 2
}
