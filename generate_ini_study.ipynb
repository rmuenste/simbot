{
 "cells": [
  {
   "cell_type": "code",
   "execution_count": 39,
   "metadata": {},
   "outputs": [],
   "source": [
    "import configparser\n",
    "import itertools\n",
    "import os\n",
    "from typing import Dict, List\n",
    "from langchain_core.tools import tool\n",
    "\n",
    "@tool\n",
    "def generate_ini_files(ini_input: str, param_study: Dict[str, str]):\n",
    "    \"\"\"\n",
    "    Generate multiple INI files for a parameter study based on the \n",
    "    input template and parameter range.\n",
    "\n",
    "    Args:\n",
    "        ini_input (str): The base INI file content as a string.\n",
    "        param_study (Dict[str, str]): A dictionary where keys are INI keys and values are parameter ranges in the format \"start,end,stepsize\".\n",
    "\n",
    "    \"\"\"\n",
    "    # Parse the input INI string\n",
    "    config = configparser.ConfigParser()\n",
    "    config.read_string(ini_input)\n",
    "    output_dir = \"parameter_study_output\"\n",
    "\n",
    "    # Prepare parameter ranges from param_study\n",
    "    param_ranges = {}\n",
    "    for key, range_str in param_study.items():\n",
    "        start, end, step = map(float, range_str.split(\",\"))\n",
    "        param_ranges[key] = [round(x, 6) for x in frange(start, end, step)]\n",
    "\n",
    "    # Generate combinations of parameters\n",
    "    # Friendly reminder '*' is the unpacking operator, i.e.:\n",
    "    # [('a', [1,2]), ('b', [3,4])] -> unpacked by * -> ('a', [1,2]), ('b', [3,4])\n",
    "    param_keys, param_values = zip(*param_ranges.items()) if param_ranges else ([], [])\n",
    "    param_combinations = list(itertools.product(*param_values))\n",
    "\n",
    "    # Ensure the output directory exists\n",
    "    os.makedirs(output_dir, exist_ok=True)\n",
    "\n",
    "    # Generate INI files\n",
    "    for idx, combination in enumerate(param_combinations):\n",
    "        # Update the config with the current combination of parameters\n",
    "        for key, value in zip(param_keys, combination):\n",
    "            section, option = key.split(\"/\", 1)\n",
    "            config[section][option] = str(value)\n",
    "\n",
    "        # Write the updated config to a new INI file\n",
    "        output_path = os.path.join(output_dir, f\"study_case_{idx + 1}.ini\")\n",
    "        with open(output_path, \"w\") as f:\n",
    "            config.write(f)\n",
    "\n",
    "    return f\"Generated {len(param_combinations)} INI files in '{output_dir}'.\"\n",
    "\n",
    "def frange(start: float, end: float, step: float) -> List[float]:\n",
    "    \"\"\"\n",
    "    Generate a range of floating-point numbers.\n",
    "\n",
    "    Args:\n",
    "        start (float): Start value.\n",
    "        end (float): End value.\n",
    "        step (float): Step size.\n",
    "\n",
    "    Returns:\n",
    "        List[float]: List of floating-point numbers.\n",
    "    \"\"\"\n",
    "    while start <= end:\n",
    "        yield start\n",
    "        start += step\n",
    "\n",
    "# Example usage\n",
    "ini_template = \"\"\"[E3DGeometryData]\n",
    "\n",
    "[E3DGeometryData/Machine]\n",
    "Type=SingleScrew\n",
    "Unit=mm\n",
    "Zwickel=0\n",
    "MachineName=TestMachine\n",
    "RotationDirection=CW\n",
    "BarrelDiameter=25\n",
    "CenterlineDistance=12.5\n",
    "BarrelStraightCut=5\n",
    "NoOfElements=10\n",
    "NoOfFlights=2\n",
    "BarrelLength=500\n",
    "\n",
    "[E3DProcessParameters]\n",
    "ScrewSpeed=100\n",
    "ProcessType=Extrusion\n",
    "MassThroughput=5\n",
    "MaterialTemperature=200\n",
    "BarrelTemperature=180\n",
    "ScrewTemperature=170\n",
    "BarrelTemperatureAdiabatic=False\n",
    "ScrewTemperatureAdiabatic=False\n",
    "\"\"\"\n",
    "\n",
    "param_study = {\n",
    "    \"E3DProcessParameters/ScrewSpeed\": \"50,150,25\",\n",
    "    \"E3DProcessParameters/MaterialTemperature\": \"190,210,10\"\n",
    "}\n",
    "\n",
    "#generate_ini_files(ini_template, param_study)\n"
   ]
  },
  {
   "cell_type": "code",
   "execution_count": 10,
   "metadata": {},
   "outputs": [
    {
     "data": {
      "text/plain": [
       "True"
      ]
     },
     "execution_count": 10,
     "metadata": {},
     "output_type": "execute_result"
    }
   ],
   "source": [
    "from dotenv import load_dotenv\n",
    "import os\n",
    "\n",
    "load_dotenv()"
   ]
  },
  {
   "cell_type": "code",
   "execution_count": 4,
   "metadata": {},
   "outputs": [
    {
     "data": {
      "text/plain": [
       "0.7"
      ]
     },
     "execution_count": 4,
     "metadata": {},
     "output_type": "execute_result"
    }
   ],
   "source": [
    "from langchain_openai import ChatOpenAI\n",
    "\n",
    "llm = ChatOpenAI()\n",
    "llm.model_name\n",
    "llm.temperature"
   ]
  },
  {
   "cell_type": "code",
   "execution_count": 40,
   "metadata": {},
   "outputs": [],
   "source": [
    "from langchain_core.tools import tool \n",
    "\n",
    "tools = [generate_ini_files]"
   ]
  },
  {
   "cell_type": "code",
   "execution_count": null,
   "metadata": {},
   "outputs": [],
   "source": []
  },
  {
   "cell_type": "code",
   "execution_count": 41,
   "metadata": {},
   "outputs": [],
   "source": [
    "from langchain_core.prompts import PromptTemplate, ChatPromptTemplate\n",
    "\n",
    "prompt_v2_str = \"\"\" \n",
    "Hallo\n",
    "param_study = {{\n",
    "    \"E3DProcessParameters/ScrewSpeed\": \"50,150,25\",\n",
    "}}\n",
    "\n",
    "\"\"\"\n",
    "\n",
    "prompt_v1_str = \"\"\" \n",
    "You are a helpful assistant for creating parameter studies based on INI files. A user provides you \n",
    "with an INI file as text and a natural language description of the parameter study. Here is an example:\n",
    "\n",
    "This could be the INI file as text:\n",
    "[E3DGeometryData]\n",
    "[E3DGeometryData/Machine]\n",
    "Type=SingleScrew\n",
    "Unit=mm\n",
    "Zwickel=0\n",
    "MachineName=TestMachine\n",
    "RotationDirection=CW\n",
    "BarrelDiameter=25\n",
    "CenterlineDistance=12.5\n",
    "BarrelStraightCut=5\n",
    "NoOfElements=10\n",
    "NoOfFlights=2\n",
    "BarrelLength=500\n",
    "[E3DProcessParameters]\n",
    "ScrewSpeed=100\n",
    "ProcessType=Extrusion\n",
    "MassThroughput=5\n",
    "MaterialTemperature=200\n",
    "BarrelTemperature=180\n",
    "ScrewTemperature=170\n",
    "BarrelTemperatureAdiabatic=False\n",
    "ScrewTemperatureAdiabatic=False\n",
    "\n",
    "The natural language description of the parameter study could be:\n",
    "Example1:\n",
    "'Make a parameter study for the E3DProcessParameters/ScrewSpeed parameter from start value 50 to a max value of 150 \n",
    "in increments of 25.'\n",
    "In this case you would call the tool with arguments:\n",
    "ini_template = the ini file provided by the user\n",
    "param_study = {{\n",
    "    \"E3DProcessParameters/ScrewSpeed\": \"50,150,25\",\n",
    "}}\n",
    "Example2:\n",
    "'Make a parameter study for the E3DProcessParameters/MaterialTemperature parameter from 190 to 210 in steps of 10.' \n",
    "In this case you would call the tool with arguments:\n",
    "ini_template = the ini file provided by the user\n",
    "param_study = {{\n",
    "    \"E3DProcessParameters/MaterialTemperature\": \"190,210,10\"\n",
    "}}\n",
    "\n",
    "Example3:\n",
    "'Make a study for the E3DProcessParameters/ScrewSpeed parameter from 50 to 150 in steps of 25 and for the \n",
    "E3DProcessParameters/MaterialTemperature parameter from 190 to 210 in steps of 10'\n",
    "In this case you would call the tool with arguments:\n",
    "ini_template = the ini file provided by the user\n",
    "param_study = {{\n",
    "    \"E3DProcessParameters/ScrewSpeed\": \"50,150,25\",\n",
    "    \"E3DProcessParameters/MaterialTemperature\": \"190,210,10\"\n",
    "}}\n",
    "\"\"\"\n",
    "\n",
    "prompt_v1 = ChatPromptTemplate([\n",
    "    (\"system\", prompt_v1_str),\n",
    "    (\"user\", \"{request}\")\n",
    "])"
   ]
  },
  {
   "cell_type": "code",
   "execution_count": 42,
   "metadata": {},
   "outputs": [
    {
     "data": {
      "text/plain": [
       "ChatPromptValue(messages=[SystemMessage(content=' \\nYou are a helpful assistant for creating parameter studies based on INI files. A user provides you \\nwith an INI file as text and a natural language description of the parameter study. Here is an example:\\n\\nThis could be the INI file as text:\\n[E3DGeometryData]\\n[E3DGeometryData/Machine]\\nType=SingleScrew\\nUnit=mm\\nZwickel=0\\nMachineName=TestMachine\\nRotationDirection=CW\\nBarrelDiameter=25\\nCenterlineDistance=12.5\\nBarrelStraightCut=5\\nNoOfElements=10\\nNoOfFlights=2\\nBarrelLength=500\\n[E3DProcessParameters]\\nScrewSpeed=100\\nProcessType=Extrusion\\nMassThroughput=5\\nMaterialTemperature=200\\nBarrelTemperature=180\\nScrewTemperature=170\\nBarrelTemperatureAdiabatic=False\\nScrewTemperatureAdiabatic=False\\n\\nThe natural language description of the parameter study could be:\\nExample1:\\n\\'Make a parameter study for the E3DProcessParameters/ScrewSpeed parameter from start value 50 to a max value of 150 \\nin increments of 25.\\'\\nIn this case you would call the tool with arguments:\\nini_template = the ini file provided by the user\\nparam_study = {\\n    \"E3DProcessParameters/ScrewSpeed\": \"50,150,25\",\\n}\\nExample2:\\n\\'Make a parameter study for the E3DProcessParameters/MaterialTemperature parameter from 190 to 210 in steps of 10.\\' \\nIn this case you would call the tool with arguments:\\nini_template = the ini file provided by the user\\nparam_study = {\\n    \"E3DProcessParameters/MaterialTemperature\": \"190,210,10\"\\n}\\n\\nExample3:\\n\\'Make a study for the E3DProcessParameters/ScrewSpeed parameter from 50 to 150 in steps of 25 and for the \\nE3DProcessParameters/MaterialTemperature parameter from 190 to 210 in steps of 10\\'\\nIn this case you would call the tool with arguments:\\nini_template = the ini file provided by the user\\nparam_study = {\\n    \"E3DProcessParameters/ScrewSpeed\": \"50,150,25\",\\n    \"E3DProcessParameters/MaterialTemperature\": \"190,210,10\"\\n}\\n', additional_kwargs={}, response_metadata={}), HumanMessage(content='Make a parameter study for the E3DProcessParameters/ScrewSpeed parameter from start value 50 to a max value of 150 in increments of 25.', additional_kwargs={}, response_metadata={})])"
      ]
     },
     "execution_count": 42,
     "metadata": {},
     "output_type": "execute_result"
    }
   ],
   "source": [
    "prompt_v1.invoke({\"request\": \"Make a parameter study for the E3DProcessParameters/ScrewSpeed parameter from start value 50 to a max value of 150 in increments of 25.\"})"
   ]
  },
  {
   "cell_type": "code",
   "execution_count": 43,
   "metadata": {},
   "outputs": [],
   "source": [
    "llm_with_tools = llm.bind_tools(tools)\n",
    "chain = prompt_v1 | llm_with_tools"
   ]
  },
  {
   "cell_type": "code",
   "execution_count": 44,
   "metadata": {},
   "outputs": [],
   "source": [
    "request_str = \"\"\" \n",
    "Here is an INI file as text:\n",
    "[E3DGeometryData]\n",
    "[E3DGeometryData/Machine]\n",
    "Type=SingleScrew\n",
    "Unit=mm\n",
    "Zwickel=0\n",
    "MachineName=TestMachine\n",
    "RotationDirection=CW\n",
    "BarrelDiameter=25\n",
    "CenterlineDistance=12.5\n",
    "BarrelStraightCut=5\n",
    "NoOfElements=1\n",
    "NoOfFlights=1\n",
    "BarrelLength=50\n",
    "[E3DProcessParameters]\n",
    "ScrewSpeed=100\n",
    "ProcessType=Extrusion\n",
    "MassThroughput=5\n",
    "MaterialTemperature=200\n",
    "BarrelTemperature=180\n",
    "ScrewTemperature=170\n",
    "BarrelTemperatureAdiabatic=False\n",
    "ScrewTemperatureAdiabatic=False\n",
    "Make a parameter study for the E3DProcessParameters/ScrewSpeed parameter from start value 50 to a max value of 150 in increments of 25.\n",
    "\"\"\""
   ]
  },
  {
   "cell_type": "code",
   "execution_count": 45,
   "metadata": {},
   "outputs": [],
   "source": [
    "reply = chain.invoke({\"request\": request_str})"
   ]
  },
  {
   "cell_type": "code",
   "execution_count": 46,
   "metadata": {},
   "outputs": [
    {
     "data": {
      "text/plain": [
       "[{'name': 'generate_ini_files',\n",
       "  'args': {'ini_input': '[E3DGeometryData]\\n[E3DGeometryData/Machine]\\nType=SingleScrew\\nUnit=mm\\nZwickel=0\\nMachineName=TestMachine\\nRotationDirection=CW\\nBarrelDiameter=25\\nCenterlineDistance=12.5\\nBarrelStraightCut=5\\nNoOfElements=1\\nNoOfFlights=1\\nBarrelLength=50\\n[E3DProcessParameters]\\nScrewSpeed=100\\nProcessType=Extrusion\\nMassThroughput=5\\nMaterialTemperature=200\\nBarrelTemperature=180\\nScrewTemperature=170\\nBarrelTemperatureAdiabatic=False\\nScrewTemperatureAdiabatic=False',\n",
       "   'param_study': {'E3DProcessParameters/ScrewSpeed': '50,150,25'}},\n",
       "  'id': 'call_izul17P3RoX4HcMNZcGY1YA5',\n",
       "  'type': 'tool_call'}]"
      ]
     },
     "execution_count": 46,
     "metadata": {},
     "output_type": "execute_result"
    }
   ],
   "source": [
    "reply.tool_calls"
   ]
  },
  {
   "cell_type": "code",
   "execution_count": 47,
   "metadata": {},
   "outputs": [],
   "source": [
    "tool_mapping = {\n",
    "    \"generate_ini_files\": generate_ini_files,\n",
    "}"
   ]
  },
  {
   "cell_type": "code",
   "execution_count": 48,
   "metadata": {},
   "outputs": [],
   "source": [
    "from langchain_core.messages import HumanMessage, ToolMessage\n",
    "messages = []\n",
    "for tool_call in reply.tool_calls:\n",
    "    tool = tool_mapping[tool_call['name'].lower()]\n",
    "    tool_output = tool.invoke(tool_call[\"args\"])\n",
    "    messages.append(ToolMessage(tool_output, tool_call_id=tool_call[\"id\"]))"
   ]
  },
  {
   "cell_type": "code",
   "execution_count": 49,
   "metadata": {},
   "outputs": [
    {
     "data": {
      "text/plain": [
       "[ToolMessage(content=\"Generated 5 INI files in 'parameter_study_output'.\", tool_call_id='call_izul17P3RoX4HcMNZcGY1YA5')]"
      ]
     },
     "execution_count": 49,
     "metadata": {},
     "output_type": "execute_result"
    }
   ],
   "source": [
    "messages"
   ]
  }
 ],
 "metadata": {
  "kernelspec": {
   "display_name": "env",
   "language": "python",
   "name": "python3"
  },
  "language_info": {
   "codemirror_mode": {
    "name": "ipython",
    "version": 3
   },
   "file_extension": ".py",
   "mimetype": "text/x-python",
   "name": "python",
   "nbconvert_exporter": "python",
   "pygments_lexer": "ipython3",
   "version": "3.10.12"
  }
 },
 "nbformat": 4,
 "nbformat_minor": 2
}
